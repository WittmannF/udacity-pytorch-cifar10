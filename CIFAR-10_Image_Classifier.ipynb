{
 "cells": [
  {
   "cell_type": "markdown",
   "metadata": {},
   "source": [
    "# Introduction\n",
    "\n",
    "In this project, you will build a neural network of your own design to evaluate the CIFAR-10 dataset.\n",
    "\n",
    "To meet the requirements for this project, you will need to achieve an accuracy greater than 45%. \n",
    "If you want to beat Detectocorp's algorithm, you'll need to achieve an accuracy greater than 70%. \n",
    "(Beating Detectocorp's algorithm is not a requirement for passing this project, but you're encouraged to try!)\n",
    "\n",
    "Some of the benchmark results on CIFAR-10 include:\n",
    "\n",
    "78.9% Accuracy | [Deep Belief Networks; Krizhevsky, 2010](https://www.cs.toronto.edu/~kriz/conv-cifar10-aug2010.pdf)\n",
    "\n",
    "90.6% Accuracy | [Maxout Networks; Goodfellow et al., 2013](https://arxiv.org/pdf/1302.4389.pdf)\n",
    "\n",
    "96.0% Accuracy | [Wide Residual Networks; Zagoruyko et al., 2016](https://arxiv.org/pdf/1605.07146.pdf)\n",
    "\n",
    "99.0% Accuracy | [GPipe; Huang et al., 2018](https://arxiv.org/pdf/1811.06965.pdf)\n",
    "\n",
    "98.5% Accuracy | [Rethinking Recurrent Neural Networks and other Improvements for ImageClassification; Nguyen et al., 2020](https://arxiv.org/pdf/2007.15161.pdf)\n",
    "\n",
    "Research with this dataset is ongoing. Notably, many of these networks are quite large and quite expensive to train. \n",
    "\n",
    "## Imports"
   ]
  },
  {
   "cell_type": "code",
   "execution_count": 1,
   "metadata": {},
   "outputs": [],
   "source": [
    "## This cell contains the essential imports you will need – DO NOT CHANGE THE CONTENTS! ##\n",
    "import torch\n",
    "import torch.nn as nn\n",
    "import torch.nn.functional as F\n",
    "import torch.optim as optim\n",
    "import torchvision\n",
    "import torchvision.transforms as transforms\n",
    "import matplotlib.pyplot as plt\n",
    "import numpy as np"
   ]
  },
  {
   "cell_type": "markdown",
   "metadata": {},
   "source": [
    "## Load the Dataset\n",
    "\n",
    "Specify your transforms as a list first.\n",
    "The transforms module is already loaded as `transforms`.\n",
    "\n",
    "CIFAR-10 is fortunately included in the torchvision module.\n",
    "Then, you can create your dataset using the `CIFAR10` object from `torchvision.datasets` ([the documentation is available here](https://pytorch.org/docs/stable/torchvision/datasets.html#cifar)).\n",
    "Make sure to specify `download=True`! \n",
    "\n",
    "Once your dataset is created, you'll also need to define a `DataLoader` from the `torch.utils.data` module for both the train and the test set."
   ]
  },
  {
   "cell_type": "code",
   "execution_count": 34,
   "metadata": {},
   "outputs": [],
   "source": [
    "# Input parameters\n",
    "# https://github.com/facebookarchive/fb.resnet.torch/issues/180\n",
    "cifar_mean=tuple(x/255.0 for x in [125.3, 123.0, 113.9])\n",
    "cifar_std=tuple(x/255.0 for x in [63.0, 62.1, 66.7])\n",
    "\n",
    "IS_GPU = torch.cuda.is_available()\n",
    "N_EPOCHS = 3\n",
    "LEARNING_RATE = 1e-4\n",
    "IMAGE_MEANS = cifar_mean\n",
    "IMAGE_STDS = cifar_std\n",
    "BATCH_SIZE=5\n",
    "PRINT_STEP=250 #samples\n"
   ]
  },
  {
   "cell_type": "code",
   "execution_count": 3,
   "metadata": {},
   "outputs": [
    {
     "name": "stdout",
     "output_type": "stream",
     "text": [
      "Downloading https://www.cs.toronto.edu/~kriz/cifar-10-python.tar.gz to ./data/cifar-10-python.tar.gz\n",
      "Files already downloaded and verified\n"
     ]
    }
   ],
   "source": [
    "# Define transforms\n",
    "\n",
    "transform = transforms.Compose(\n",
    "    [transforms.ToTensor(),\n",
    "     transforms.Normalize(IMAGE_MEANS, IMAGE_STDS)])\n",
    "\n",
    "\n",
    "# Create training set and define training dataloader\n",
    "trainset = torchvision.datasets.CIFAR10(root='./data', \n",
    "                                        train=True, \n",
    "                                        download=True, \n",
    "                                        transform=transform)\n",
    "\n",
    "trainloader = torch.utils.data.DataLoader(trainset, \n",
    "                                          batch_size=BATCH_SIZE,\n",
    "                                          shuffle=True)\n",
    "\n",
    "# Create test set and define test dataloader\n",
    "testset = torchvision.datasets.CIFAR10(root='./data', \n",
    "                                       train=False,\n",
    "                                       download=True, \n",
    "                                       transform=transform)\n",
    "testloader = torch.utils.data.DataLoader(testset, \n",
    "                                         batch_size=BATCH_SIZE,\n",
    "                                         shuffle=False)\n",
    "\n",
    "# The 10 classes in the dataset\n",
    "classes = ('plane', 'car', 'bird', 'cat', 'deer', 'dog', 'frog', 'horse', 'ship', 'truck')"
   ]
  },
  {
   "cell_type": "markdown",
   "metadata": {},
   "source": [
    "## Explore the Dataset\n",
    "Using matplotlib, numpy, and torch, explore the dimensions of your data.\n",
    "\n",
    "You can view images using the `show5` function defined below – it takes a data loader as an argument.\n",
    "Remember that normalized images will look really weird to you! You may want to try changing your transforms to view images.\n",
    "Typically using no transforms other than `toTensor()` works well for viewing – but not as well for training your network.\n",
    "If `show5` doesn't work, go back and check your code for creating your data loaders and your training/test sets."
   ]
  },
  {
   "cell_type": "code",
   "execution_count": 8,
   "metadata": {},
   "outputs": [],
   "source": [
    "def show5(img_loader):\n",
    "    dataiter = iter(img_loader)\n",
    "    \n",
    "    batch = next(dataiter)\n",
    "    labels = batch[1][0:5]\n",
    "    images = batch[0][0:5]\n",
    "    for i in range(5):\n",
    "        print(classes[labels[i]])\n",
    "    \n",
    "        image = images[i].numpy()\n",
    "        plt.imshow(np.clip(np.rot90(image.T, k=3), 0, 1)) # I had to add np.clip here\n",
    "        plt.show()"
   ]
  },
  {
   "cell_type": "code",
   "execution_count": 9,
   "metadata": {},
   "outputs": [
    {
     "name": "stdout",
     "output_type": "stream",
     "text": [
      "cat\n"
     ]
    },
    {
     "data": {
      "image/png": "[encoded data removed]",
      "text/plain": [
       "<matplotlib.figure.Figure at 0x7f32a155ef60>"
      ]
     },
     "metadata": {
      "needs_background": "light"
     },
     "output_type": "display_data"
    },
    {
     "name": "stdout",
     "output_type": "stream",
     "text": [
      "ship\n"
     ]
    },
    {
     "data": {
      "image/png": "[encoded data removed]",
      "text/plain": [
       "<matplotlib.figure.Figure at 0x7f32a151b2b0>"
      ]
     },
     "metadata": {
      "needs_background": "light"
     },
     "output_type": "display_data"
    },
    {
     "name": "stdout",
     "output_type": "stream",
     "text": [
      "ship\n"
     ]
    },
    {
     "data": {
      "image/png": "[encoded data removed]",
      "text/plain": [
       "<matplotlib.figure.Figure at 0x7f32a15156d8>"
      ]
     },
     "metadata": {
      "needs_background": "light"
     },
     "output_type": "display_data"
    },
    {
     "name": "stdout",
     "output_type": "stream",
     "text": [
      "plane\n"
     ]
    },
    {
     "data": {
      "image/png": "[encoded data removed]",
      "text/plain": [
       "<matplotlib.figure.Figure at 0x7f32a1530a90>"
      ]
     },
     "metadata": {
      "needs_background": "light"
     },
     "output_type": "display_data"
    },
    {
     "name": "stdout",
     "output_type": "stream",
     "text": [
      "frog\n"
     ]
    },
    {
     "data": {
      "image/png": "[encoded data removed]",
      "text/plain": [
       "<matplotlib.figure.Figure at 0x7f32a0c6ba90>"
      ]
     },
     "metadata": {
      "needs_background": "light"
     },
     "output_type": "display_data"
    }
   ],
   "source": [
    "# Explore data\n",
    "show5(testloader)"
   ]
  },
  {
   "cell_type": "markdown",
   "metadata": {},
   "source": [
    "## Build your Neural Network\n",
    "Using the layers in `torch.nn` (which has been imported as `nn`) and the `torch.nn.functional` module (imported as `F`), construct a neural network based on the parameters of the dataset. \n",
    "Feel free to construct a model of any architecture – feedforward, convolutional, or even something more advanced!"
   ]
  },
  {
   "cell_type": "code",
   "execution_count": 18,
   "metadata": {},
   "outputs": [],
   "source": [
    "## YOUR CODE HERE ##\n",
    "# The following reference has been consulted as helper: https://github.com/kuangliu/pytorch-cifar/blob/master/models/vgg.py\n",
    "import torch\n",
    "import torch.nn as nn\n",
    "\n",
    "\n",
    "layers_vgg11=[64, \n",
    "              'MaxPool', \n",
    "              128, \n",
    "              'MaxPool', \n",
    "              256, \n",
    "              256, \n",
    "              'MaxPool', \n",
    "              512, \n",
    "              512, \n",
    "              'MaxPool', \n",
    "              512, \n",
    "              512, \n",
    "              'MaxPool'\n",
    "             ]\n",
    "\n",
    "class VGG11(nn.Module):\n",
    "    def __init__(self):\n",
    "        super(VGG11, self).__init__()\n",
    "        \n",
    "        conv_layers = []\n",
    "        in_channels = 3\n",
    "        for x in layers_vgg11:\n",
    "            if x == 'MaxPool':\n",
    "                conv_layers.extend([nn.MaxPool2d(kernel_size=2, stride=2)])\n",
    "            else:\n",
    "                conv_layers.extend([nn.Conv2d(in_channels, x, kernel_size=3, padding=1),\n",
    "                           nn.BatchNorm2d(x),\n",
    "                           nn.ReLU(inplace=True)])\n",
    "                in_channels = x\n",
    "                \n",
    "        conv_layers.extend([nn.AvgPool2d(kernel_size=1, stride=1)])\n",
    "        self.features=nn.Sequential(*conv_layers)\n",
    "        \n",
    "        self.classifier = nn.Linear(512, 10)\n",
    "\n",
    "    def forward(self, x):\n",
    "        out = self.features(x)\n",
    "        out = out.view(out.size(0), -1)\n",
    "        out = self.classifier(out)\n",
    "        return out"
   ]
  },
  {
   "cell_type": "markdown",
   "metadata": {},
   "source": [
    "Specify a loss function and an optimizer, and instantiate the model.\n",
    "\n",
    "If you use a less common loss function, please note why you chose that loss function in a comment."
   ]
  },
  {
   "cell_type": "code",
   "execution_count": 19,
   "metadata": {},
   "outputs": [],
   "source": [
    "## YOUR CODE HERE ##\n",
    "net = VGG11()\n",
    "criterion = nn.CrossEntropyLoss()\n",
    "optimizer = optim.Adam(net.parameters(), lr=LEARNING_RATE)"
   ]
  },
  {
   "cell_type": "markdown",
   "metadata": {},
   "source": [
    "## Running your Neural Network\n",
    "Use whatever method you like to train your neural network, and ensure you record the average loss at each epoch. \n",
    "Don't forget to use `torch.device()` and the `.to()` method for both your model and your data if you are using GPU!\n",
    "\n",
    "If you want to print your loss during each epoch, you can use the `enumerate` function and print the loss after a set number of batches. 250 batches works well for most people!"
   ]
  },
  {
   "cell_type": "code",
   "execution_count": 36,
   "metadata": {},
   "outputs": [
    {
     "name": "stdout",
     "output_type": "stream",
     "text": [
      "Epoch: 1, Step: 250, Loss: 0.8258278978168965\n",
      "Epoch: 1, Step: 500, Loss: 0.8619449968636036\n",
      "Epoch: 1, Step: 750, Loss: 0.8237549235522748\n",
      "Epoch: 1, Step: 1000, Loss: 0.8298499592542649\n",
      "Epoch: 1, Step: 1250, Loss: 0.825163671374321\n",
      "Epoch: 1, Step: 1500, Loss: 0.8437230507731438\n",
      "Epoch: 1, Step: 1750, Loss: 0.8272837490439415\n",
      "Epoch: 1, Step: 2000, Loss: 0.8467429358959198\n",
      "Epoch: 1, Step: 2250, Loss: 0.8160374005883932\n",
      "Epoch: 1, Step: 2500, Loss: 0.8817829216420651\n",
      "Epoch: 1, Step: 2750, Loss: 0.8051914903745055\n",
      "Epoch: 1, Step: 3000, Loss: 0.8514080947041511\n",
      "Epoch: 1, Step: 3250, Loss: 0.865154478609562\n",
      "Epoch: 1, Step: 3500, Loss: 0.811650943517685\n",
      "Epoch: 1, Step: 3750, Loss: 0.7785584111511707\n",
      "Epoch: 1, Step: 4000, Loss: 0.8562453107237816\n",
      "Epoch: 1, Step: 4250, Loss: 0.8239292540997267\n",
      "Epoch: 1, Step: 4500, Loss: 0.7738249661922455\n",
      "Epoch: 1, Step: 4750, Loss: 0.8190739211142063\n",
      "Epoch: 1, Step: 5000, Loss: 0.8260473743528127\n",
      "Epoch: 1, Step: 5250, Loss: 0.7689818136096\n",
      "Epoch: 1, Step: 5500, Loss: 0.7814465258717537\n",
      "Epoch: 1, Step: 5750, Loss: 0.7880135959386826\n",
      "Epoch: 1, Step: 6000, Loss: 0.8208678734004498\n",
      "Epoch: 1, Step: 6250, Loss: 0.7886628624983132\n",
      "Epoch: 1, Step: 6500, Loss: 0.8140071133971214\n",
      "Epoch: 1, Step: 6750, Loss: 0.7905707015246153\n",
      "Epoch: 1, Step: 7000, Loss: 0.7488461094200611\n",
      "Epoch: 1, Step: 7250, Loss: 0.8049406556785107\n",
      "Epoch: 1, Step: 7500, Loss: 0.7998853977024555\n",
      "Epoch: 1, Step: 7750, Loss: 0.7708508808016777\n",
      "Epoch: 1, Step: 8000, Loss: 0.7808047656118869\n",
      "Epoch: 1, Step: 8250, Loss: 0.8269925664961338\n",
      "Epoch: 1, Step: 8500, Loss: 0.7370528203174472\n",
      "Epoch: 1, Step: 8750, Loss: 0.7846264163181186\n",
      "Epoch: 1, Step: 9000, Loss: 0.829494461864233\n",
      "Epoch: 1, Step: 9250, Loss: 0.724749460503459\n",
      "Epoch: 1, Step: 9500, Loss: 0.7578949568569661\n",
      "Epoch: 1, Step: 9750, Loss: 0.7622719554752111\n",
      "Epoch: 2, Step: 250, Loss: 0.6610392914414406\n",
      "Epoch: 2, Step: 500, Loss: 0.6626711595803499\n",
      "Epoch: 2, Step: 750, Loss: 0.6907373497486115\n",
      "Epoch: 2, Step: 1000, Loss: 0.7392339545339346\n",
      "Epoch: 2, Step: 1250, Loss: 0.689899610504508\n",
      "Epoch: 2, Step: 1500, Loss: 0.6985516060888767\n",
      "Epoch: 2, Step: 1750, Loss: 0.670527346611023\n",
      "Epoch: 2, Step: 2000, Loss: 0.6904081342443824\n",
      "Epoch: 2, Step: 2250, Loss: 0.6265573829635978\n",
      "Epoch: 2, Step: 2500, Loss: 0.6895959245115518\n",
      "Epoch: 2, Step: 2750, Loss: 0.6474038959294558\n",
      "Epoch: 2, Step: 3000, Loss: 0.675214713037014\n",
      "Epoch: 2, Step: 3250, Loss: 0.6661905726715922\n",
      "Epoch: 2, Step: 3500, Loss: 0.7184531833603978\n",
      "Epoch: 2, Step: 3750, Loss: 0.6727544890493155\n",
      "Epoch: 2, Step: 4000, Loss: 0.6903341477364302\n",
      "Epoch: 2, Step: 4250, Loss: 0.7125805063843728\n",
      "Epoch: 2, Step: 4500, Loss: 0.6587801541388035\n",
      "Epoch: 2, Step: 4750, Loss: 0.66570883641392\n",
      "Epoch: 2, Step: 5000, Loss: 0.6084720100611448\n",
      "Epoch: 2, Step: 5250, Loss: 0.6144527642279863\n",
      "Epoch: 2, Step: 5500, Loss: 0.6979082110524177\n",
      "Epoch: 2, Step: 5750, Loss: 0.6545858297944069\n",
      "Epoch: 2, Step: 6000, Loss: 0.6979552398696541\n",
      "Epoch: 2, Step: 6250, Loss: 0.6784452926814556\n",
      "Epoch: 2, Step: 6500, Loss: 0.6328554281517863\n",
      "Epoch: 2, Step: 6750, Loss: 0.6654501424357295\n",
      "Epoch: 2, Step: 7000, Loss: 0.6543319016396999\n",
      "Epoch: 2, Step: 7250, Loss: 0.6568998481184244\n",
      "Epoch: 2, Step: 7500, Loss: 0.7193847407400608\n",
      "Epoch: 2, Step: 7750, Loss: 0.6563283575028181\n",
      "Epoch: 2, Step: 8000, Loss: 0.6511782927662134\n",
      "Epoch: 2, Step: 8250, Loss: 0.6920327194333077\n",
      "Epoch: 2, Step: 8500, Loss: 0.6500487520992756\n",
      "Epoch: 2, Step: 8750, Loss: 0.669469723239541\n",
      "Epoch: 2, Step: 9000, Loss: 0.6360148979276419\n",
      "Epoch: 2, Step: 9250, Loss: 0.632853503152728\n",
      "Epoch: 2, Step: 9500, Loss: 0.6546727798804641\n",
      "Epoch: 2, Step: 9750, Loss: 0.6375563743188978\n",
      "Epoch: 3, Step: 250, Loss: 0.5744552643075586\n",
      "Epoch: 3, Step: 500, Loss: 0.5033164724260568\n",
      "Epoch: 3, Step: 750, Loss: 0.5695458330512047\n",
      "Epoch: 3, Step: 1000, Loss: 0.5682642523422837\n",
      "Epoch: 3, Step: 1250, Loss: 0.5414577104095369\n",
      "Epoch: 3, Step: 1500, Loss: 0.5632285139709711\n",
      "Epoch: 3, Step: 1750, Loss: 0.5459934975132346\n",
      "Epoch: 3, Step: 2000, Loss: 0.5827812642455101\n",
      "Epoch: 3, Step: 2250, Loss: 0.5571362691447139\n",
      "Epoch: 3, Step: 2500, Loss: 0.522020717844367\n",
      "Epoch: 3, Step: 2750, Loss: 0.5357200946211815\n",
      "Epoch: 3, Step: 3000, Loss: 0.5515992895327508\n",
      "Epoch: 3, Step: 3250, Loss: 0.552255408771336\n",
      "Epoch: 3, Step: 3500, Loss: 0.5697722345776856\n",
      "Epoch: 3, Step: 3750, Loss: 0.598033100001514\n",
      "Epoch: 3, Step: 4000, Loss: 0.5717781535834074\n",
      "Epoch: 3, Step: 4250, Loss: 0.5507902848646045\n",
      "Epoch: 3, Step: 4500, Loss: 0.5138598293121904\n",
      "Epoch: 3, Step: 4750, Loss: 0.557941411036998\n",
      "Epoch: 3, Step: 5000, Loss: 0.5602349509969353\n",
      "Epoch: 3, Step: 5250, Loss: 0.5394929450005292\n",
      "Epoch: 3, Step: 5500, Loss: 0.5549677630290389\n",
      "Epoch: 3, Step: 5750, Loss: 0.5470172080956399\n",
      "Epoch: 3, Step: 6000, Loss: 0.5536061308458448\n",
      "Epoch: 3, Step: 6250, Loss: 0.5485053492262959\n",
      "Epoch: 3, Step: 6500, Loss: 0.5566338173858821\n",
      "Epoch: 3, Step: 6750, Loss: 0.5648989041484892\n",
      "Epoch: 3, Step: 7000, Loss: 0.5973437352478504\n",
      "Epoch: 3, Step: 7250, Loss: 0.5473037361614406\n",
      "Epoch: 3, Step: 7500, Loss: 0.525512833289802\n",
      "Epoch: 3, Step: 7750, Loss: 0.5133496859073639\n",
      "Epoch: 3, Step: 8000, Loss: 0.54403172801435\n",
      "Epoch: 3, Step: 8250, Loss: 0.5564330761209131\n",
      "Epoch: 3, Step: 8500, Loss: 0.5294990607835353\n",
      "Epoch: 3, Step: 8750, Loss: 0.505102382697165\n",
      "Epoch: 3, Step: 9000, Loss: 0.501900199830532\n",
      "Epoch: 3, Step: 9250, Loss: 0.5758641935288906\n",
      "Epoch: 3, Step: 9500, Loss: 0.5194213145114481\n",
      "Epoch: 3, Step: 9750, Loss: 0.5666344089210034\n"
     ]
    }
   ],
   "source": [
    "## YOUR CODE HERE ##    \n",
    "def train_network(trainloader, net, loss, optimizer, is_gpu, n_epochs=2, print_step=2000):\n",
    "    loss_history = []\n",
    "    if is_gpu:\n",
    "        net = net.cuda()\n",
    "        net = torch.nn.DataParallel(net, device_ids=range(torch.cuda.device_count()))\n",
    "    \n",
    "    for epoch in range(n_epochs): \n",
    "\n",
    "        running_loss = 0.0\n",
    "        net.train()\n",
    "        for i, data in enumerate(trainloader, 0):\n",
    "            inputs, labels = data\n",
    "            if is_gpu:\n",
    "                inputs, labels = inputs.cuda(), labels.cuda()\n",
    "\n",
    "            optimizer.zero_grad()\n",
    "            outputs = net(inputs)\n",
    "            loss = criterion(outputs, labels)\n",
    "            loss.backward()\n",
    "            optimizer.step()\n",
    "            running_loss += loss.item()\n",
    "            if i % print_step == 0 and i!=0:\n",
    "                loss_history.append(running_loss / print_step)\n",
    "                print(f\"Epoch: {epoch + 1}, Step: {i}, Loss: {running_loss / print_step}\")\n",
    "                running_loss = 0.0\n",
    "    return loss_history\n",
    "    \n",
    "loss_history=train_network(trainloader, net, criterion, optimizer, IS_GPU, n_epochs=N_EPOCHS, print_step=PRINT_STEP)"
   ]
  },
  {
   "cell_type": "markdown",
   "metadata": {},
   "source": [
    "Plot the training loss (and validation loss/accuracy, if recorded)."
   ]
  },
  {
   "cell_type": "code",
   "execution_count": 37,
   "metadata": {
    "scrolled": true
   },
   "outputs": [
    {
     "data": {
      "text/plain": [
       "[<matplotlib.lines.Line2D at 0x7f327ee6c358>]"
      ]
     },
     "execution_count": 37,
     "metadata": {},
     "output_type": "execute_result"
    },
    {
     "data": {
      "image/png": "[encoded data removed]",
      "text/plain": [
       "<matplotlib.figure.Figure at 0x7f3284146f60>"
      ]
     },
     "metadata": {
      "needs_background": "light"
     },
     "output_type": "display_data"
    }
   ],
   "source": [
    "## YOUR CODE HERE ##\n",
    "plt.plot(loss_history)"
   ]
  },
  {
   "cell_type": "markdown",
   "metadata": {},
   "source": [
    "## Testing your model\n",
    "Using the previously created `DataLoader` for the test set, compute the percentage of correct predictions using the highest probability prediction. \n",
    "\n",
    "If your accuracy is over 70%, great work! \n",
    "This is a hard task to exceed 70% on.\n",
    "\n",
    "If your accuracy is under 45%, you'll need to make improvements.\n",
    "Go back and check your model architecture, loss function, and optimizer to make sure they're appropriate for an image classification task."
   ]
  },
  {
   "cell_type": "code",
   "execution_count": 40,
   "metadata": {},
   "outputs": [
    {
     "name": "stdout",
     "output_type": "stream",
     "text": [
      "Accuracy of the network 78.95%\n"
     ]
    }
   ],
   "source": [
    "def test_network(testloader, is_gpu, net):\n",
    "    correct = 0\n",
    "    total = 0\n",
    "    net.eval()\n",
    "    with torch.no_grad():\n",
    "        for data in testloader:\n",
    "            images, labels = data\n",
    "            if is_gpu:\n",
    "                images, labels = images.cuda(), labels.cuda()\n",
    "            outputs = net(images)\n",
    "            _, predicted = torch.max(outputs.data, 1)\n",
    "            total += labels.size(0)\n",
    "            correct += (predicted == labels).sum().item()\n",
    "\n",
    "    print(f'Accuracy of the network {100 * correct / total}%')\n",
    "\n",
    "test_network(testloader, IS_GPU, net)"
   ]
  },
  {
   "cell_type": "markdown",
   "metadata": {},
   "source": [
    "## Saving your model\n",
    "Using `torch.save`, save your model for future loading."
   ]
  },
  {
   "cell_type": "code",
   "execution_count": 33,
   "metadata": {},
   "outputs": [],
   "source": [
    "## YOUR CODE HERE ##\n",
    "torch.save(net.state_dict(), 'dl_model.pth')"
   ]
  },
  {
   "cell_type": "markdown",
   "metadata": {},
   "source": [
    "## Make a Recommendation\n",
    "\n",
    "Based on your evaluation, what is your recommendation on whether to build or buy? Explain your reasoning below.\n",
    "\n",
    "Some things to consider as you formulate your recommendation:\n",
    "* How does your model compare to Detectocorp's model?\n",
    "* How does it compare to the far more advanced solutions in the literature? \n",
    "* What did you do to get the accuracy you achieved? \n",
    "* Is it necessary to improve this accuracy? If so, what sort of work would be involved in improving it?"
   ]
  },
  {
   "cell_type": "markdown",
   "metadata": {},
   "source": [
    "**How does your model compare to Detectocorp's model?**\n",
    "The model reached an accuracy of 78% which is 8% above Detectocorp's model, with accuracy of 70%\n",
    "\n",
    "**How does it compare to the far more advanced solutions in the literature?**\n",
    "Is is still far from SoTA results, which is above 90%, but still is a decent and simple network. \n",
    "\n",
    "**What did you do to get the accuracy you achieved?**\n",
    "\n",
    "Here's the main parameters:\n",
    "```\n",
    "N_EPOCHS = 3\n",
    "LEARNING_RATE = 1e-4\n",
    "IMAGE_MEANS = cifar_mean\n",
    "IMAGE_STDS = cifar_std\n",
    "BATCH_SIZE=5\n",
    "PRINT_STEP=250 #samples\n",
    "```\n",
    "\n",
    "- Model: A VGG11-like architecture has been used, similar to the following image ([reference](https://www.researchgate.net/figure/Figure-S1-Block-diagram-of-the-VGG11-architecture-Adapted-from-https-bitly-2ksX5Eq_fig1_336550999)):\n",
    "![](https://www.researchgate.net/publication/336550999/figure/fig1/AS:814110748987402@1571110536721/Figure-S1-Block-diagram-of-the-VGG11-architecture-Adapted-from-https-bitly-2ksX5Eq.png)\n",
    "The only difference was the classifier layer had only one hidden layer with 512 units.\n",
    "\n",
    "- Loss Function: Adam with a learning rate of 1e-4\n",
    "\n",
    "- Transform: No data augmentation has been applied, but the data has been normalized using CIFAR stats\n",
    "\n",
    "**Is it necessary to improve this accuracy? If so, what sort of work would be involved in improving it?**\n",
    "\n",
    "Some things for improving accuracy:\n",
    "- Try other architectures\n",
    "- Data augmentation, mixup\n",
    "- Some callbacks like LRFinder and learning rate scheduler\n",
    "- More epochs and create a validation set\n",
    "\n",
    "## References\n",
    "The following references were consulted as helper for this project:\n",
    "- https://github.com/kuangliu/pytorch-cifar\n",
    "- https://pytorch.org/tutorials/beginner/blitz/cifar10_tutorial.html"
   ]
  },
  {
   "cell_type": "markdown",
   "metadata": {},
   "source": [
    "## Submit Your Project\n",
    "\n",
    "When you are finished editing the notebook and are ready to turn it in, simply click the **SUBMIT PROJECT** button in the lower right.\n",
    "\n",
    "Once you submit your project, we'll review your work and give you feedback if there's anything that you need to work on. If you'd like to see the exact points that your reviewer will check for when looking at your work, you can have a look over the project [rubric](https://review.udacity.com/#!/rubrics/3077/view)."
   ]
  }
 ],
 "metadata": {
  "kernelspec": {
   "display_name": "Python 3",
   "language": "python",
   "name": "python3"
  },
  "language_info": {
   "codemirror_mode": {
    "name": "ipython",
    "version": 3
   },
   "file_extension": ".py",
   "mimetype": "text/x-python",
   "name": "python",
   "nbconvert_exporter": "python",
   "pygments_lexer": "ipython3",
   "version": "3.6.3"
  }
 },
 "nbformat": 4,
 "nbformat_minor": 4
}
